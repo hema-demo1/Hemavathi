{
  "cells": [
    {
      "cell_type": "markdown",
      "metadata": {
        "id": "view-in-github",
        "colab_type": "text"
      },
      "source": [
        "<a href=\"https://colab.research.google.com/github/hema-demo1/Hemavathi/blob/main/week14_extra_credit.ipynb\" target=\"_parent\"><img src=\"https://colab.research.google.com/assets/colab-badge.svg\" alt=\"Open In Colab\"/></a>"
      ]
    },
    {
      "cell_type": "markdown",
      "metadata": {
        "id": "gtfIcIb54h05"
      },
      "source": [
        "# Week 14 Extra Credit - How will ChatGPT do on your final project idea?\n",
        "\n",
        "This extra credit assignment is entirely optional.  You do not need to do it.\n",
        "\n",
        "If you would like the opportunity to earn up to 5 extra credit points, complete this assignment and submit it via GitHub as normal before Monday, November 27 at 11:59 PM CST.  No late submissions will be accepted.  The file must be saved to your week13 folder in GitHub."
      ]
    },
    {
      "cell_type": "markdown",
      "metadata": {
        "id": "zYYPbQul4h07"
      },
      "source": [
        "## Part 1: Have a conversation with ChatGPT\n",
        "\n",
        "I want you to have a conversation with ChatGPT about your final project idea.  Find out what it thinks about your idea and if it has any data sources (URLs for specific sites) that could be helpful.  Below, either include copy/paste the chat history from your conversation or include a link to the shared chat.  (ChatGPT has an [option to share a link to a specific conversation](https://help.openai.com/en/articles/7925741-chatgpt-shared-links-faq).  It's the up-arrow icon in the upper-right corner of your chat window.)\n",
        "\n",
        "Take this conversationw with ChatGPT as far as you want, but at least ask three or four follow-up questions to refine the information you're getting back.\n",
        "\n",
        "If it starts giving you links to information, don't assume they're going to work. Remember that ChatGPT isn't perfect. So, follow the links and make sure there's information there that matches what ChatGPT says you will find."
      ]
    },
    {
      "cell_type": "markdown",
      "metadata": {
        "id": "dRKtRCKO4h07"
      },
      "source": [
        "**RESPONSE**\n",
        "https://chatgpt.com/share/674d48b2-5868-800d-b32b-1360af85519b"
      ]
    },
    {
      "cell_type": "markdown",
      "metadata": {
        "id": "zCRvRp_G4h07"
      },
      "source": [
        "### Part 2: Your reflection\n",
        "\n",
        "Below, tell me what you think ChatGPT did well or not well in your conversation.  Was it good at finding data that you needed?  Was it good at finding actual links that worked?  Did its responses make sense to you?  What did it do well / not well?\n",
        "\n",
        "Your response below should be several sentences.  If you don't have enough feedback, expand your conversation with ChatGPT.  Ask it refine your project idea or start writing code for you.  See what it can do."
      ]
    },
    {
      "cell_type": "markdown",
      "metadata": {
        "id": "o8_Yrr344h08"
      },
      "source": [
        "**RESPONSE**\n",
        "\n",
        "I found ChatGPT to be efficient in identifying the scale of the analysis required for the opioid crisis and constructed a coherent framework to approach it. Some of the sources of datasets which it offered were more appropriate and credible in this regard including the CDC WONDER and NIDA. However, it failed in offering the real generic working dataset links since some of the examples were a dummy link or generalized example rather than they were the set of datasets download links. This left me having to go further down to obtain real data.\n",
        "\n",
        "The sample Python code provided for data analysis and visualization was really useful and makes total sense. It demonstrated regions of regular analysis pipelines such as data preparation and cleansing, data pattern analysis and display, and was even competent in c ) statistical analysis as well as predictive modeling. All these steps match what I required for my project.\n",
        "\n",
        "On an average, ChatGPT gave good conceptual suggestions and its guidance was helpful, however, lacked in offering a functional dataset link or the usability check of the sources made it a little more challenging for me. Subsequently, I may use it to improve the code some more, add particular datasets, or to apply different techniques for analysing and visualising the trends.\n"
      ]
    },
    {
      "cell_type": "markdown",
      "metadata": {
        "id": "RduYvIHK4h08"
      },
      "source": [
        "### Submitting\n",
        "\n",
        "Submit this as normal to GitHub with the name `week14/week14_extra_credit.ipynb`"
      ]
    },
    {
      "cell_type": "markdown",
      "metadata": {
        "id": "LpktoG734h08"
      },
      "source": []
    }
  ],
  "metadata": {
    "language_info": {
      "name": "python"
    },
    "colab": {
      "provenance": [],
      "include_colab_link": true
    }
  },
  "nbformat": 4,
  "nbformat_minor": 0
}